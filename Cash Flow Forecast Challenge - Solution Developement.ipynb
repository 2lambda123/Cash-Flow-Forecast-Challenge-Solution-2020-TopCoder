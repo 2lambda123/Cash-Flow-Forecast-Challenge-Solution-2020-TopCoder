{
 "cells": [
  {
   "cell_type": "markdown",
   "metadata": {},
   "source": [
    "I've imported necessary Python libraries for data analysis and machine learning models."
   ]
  },
  {
   "cell_type": "code",
   "execution_count": 13,
   "metadata": {
    "nbgrader": {
     "grade": false,
     "grade_id": "c3",
     "locked": true,
     "schema_version": 1,
     "solution": false
    }
   },
   "outputs": [],
   "source": [
    "import pandas as pd \n",
    "import warnings\n",
    "import itertools\n",
    "from sklearn.tree import DecisionTreeRegressor\n",
    "from sklearn.linear_model import LinearRegression\n",
    "from sklearn.model_selection import train_test_split\n",
    "from sklearn.metrics import mean_squared_error\n",
    "from math import sqrt\n",
    "import numpy as np\n",
    "from sklearn.model_selection import train_test_split"
   ]
  },
  {
   "cell_type": "markdown",
   "metadata": {},
   "source": [
    "I've converted the date into numbers so it doesn't show any error. The reason I've taken date-time into account is because the cash flow depends on the time interval. We have to make sure if it's long term forecasting or short term forecasting. In this case, it's a short term forecasting."
   ]
  },
  {
   "cell_type": "code",
   "execution_count": 14,
   "metadata": {
    "nbgrader": {
     "grade": false,
     "grade_id": "c2c",
     "locked": true,
     "schema_version": 1,
     "solution": false
    }
   },
   "outputs": [
    {
     "data": {
      "text/html": [
       "<div>\n",
       "<style scoped>\n",
       "    .dataframe tbody tr th:only-of-type {\n",
       "        vertical-align: middle;\n",
       "    }\n",
       "\n",
       "    .dataframe tbody tr th {\n",
       "        vertical-align: top;\n",
       "    }\n",
       "\n",
       "    .dataframe thead th {\n",
       "        text-align: right;\n",
       "    }\n",
       "</style>\n",
       "<table border=\"1\" class=\"dataframe\">\n",
       "  <thead>\n",
       "    <tr style=\"text-align: right;\">\n",
       "      <th></th>\n",
       "      <th>Country</th>\n",
       "      <th>Date</th>\n",
       "      <th>AP Adj</th>\n",
       "      <th>Cost</th>\n",
       "      <th>Cash Flow</th>\n",
       "    </tr>\n",
       "  </thead>\n",
       "  <tbody>\n",
       "    <tr>\n",
       "      <th>220</th>\n",
       "      <td>USA</td>\n",
       "      <td>42005</td>\n",
       "      <td>-2.996940</td>\n",
       "      <td>-0.432719</td>\n",
       "      <td>-3.575424</td>\n",
       "    </tr>\n",
       "    <tr>\n",
       "      <th>221</th>\n",
       "      <td>USA</td>\n",
       "      <td>42036</td>\n",
       "      <td>-2.343707</td>\n",
       "      <td>-0.171245</td>\n",
       "      <td>0.653233</td>\n",
       "    </tr>\n",
       "    <tr>\n",
       "      <th>222</th>\n",
       "      <td>USA</td>\n",
       "      <td>42064</td>\n",
       "      <td>-1.970763</td>\n",
       "      <td>-0.408953</td>\n",
       "      <td>0.372944</td>\n",
       "    </tr>\n",
       "    <tr>\n",
       "      <th>223</th>\n",
       "      <td>USA</td>\n",
       "      <td>42095</td>\n",
       "      <td>-1.752171</td>\n",
       "      <td>-0.167591</td>\n",
       "      <td>0.218592</td>\n",
       "    </tr>\n",
       "    <tr>\n",
       "      <th>224</th>\n",
       "      <td>USA</td>\n",
       "      <td>42125</td>\n",
       "      <td>-1.260731</td>\n",
       "      <td>-0.175210</td>\n",
       "      <td>0.491440</td>\n",
       "    </tr>\n",
       "  </tbody>\n",
       "</table>\n",
       "</div>"
      ],
      "text/plain": [
       "    Country   Date    AP Adj      Cost  Cash Flow\n",
       "220     USA  42005 -2.996940 -0.432719  -3.575424\n",
       "221     USA  42036 -2.343707 -0.171245   0.653233\n",
       "222     USA  42064 -1.970763 -0.408953   0.372944\n",
       "223     USA  42095 -1.752171 -0.167591   0.218592\n",
       "224     USA  42125 -1.260731 -0.175210   0.491440"
      ]
     },
     "execution_count": 14,
     "metadata": {},
     "output_type": "execute_result"
    }
   ],
   "source": [
    "df = pd.read_csv('./to_community/anonymized_train_data.csv')\n",
    "Ch = df[:55]\n",
    "Ge = df[55:110]\n",
    "Ir = df[110:165]\n",
    "Sw = df[165:220]\n",
    "US = df[220:]\n",
    "US.head()"
   ]
  },
  {
   "cell_type": "code",
   "execution_count": 15,
   "metadata": {},
   "outputs": [
    {
     "data": {
      "text/plain": [
       "(42005, 43647)"
      ]
     },
     "execution_count": 15,
     "metadata": {},
     "output_type": "execute_result"
    }
   ],
   "source": [
    "Sw['Date'].min(), Sw['Date'].max()"
   ]
  },
  {
   "cell_type": "markdown",
   "metadata": {},
   "source": [
    "Function for dropping the Null values (rows where NaN exists)"
   ]
  },
  {
   "cell_type": "code",
   "execution_count": 16,
   "metadata": {
    "nbgrader": {
     "grade": false,
     "grade_id": "c555",
     "locked": false,
     "schema_version": 1,
     "solution": true
    }
   },
   "outputs": [],
   "source": [
    "def preparation(dataf, features, target):\n",
    "    dataf = dataf.dropna()\n",
    "    \n",
    "    X = dataf[features].copy()\n",
    "    y = dataf[target].copy()\n",
    "    \n",
    "    return X, y"
   ]
  },
  {
   "cell_type": "code",
   "execution_count": 17,
   "metadata": {},
   "outputs": [
    {
     "data": {
      "text/plain": [
       "((55, 3), (55, 1))"
      ]
     },
     "execution_count": 17,
     "metadata": {},
     "output_type": "execute_result"
    }
   ],
   "source": [
    "features = ['Date','AP Adj','Cost']\n",
    "target = ['Cash Flow']\n",
    "X1, y1 = preparation(Ch, features, target)\n",
    "X2, y2 = preparation(Ge, features, target)\n",
    "X3, y3 = preparation(Ir, features, target)\n",
    "X4, y4 = preparation(Sw, features, target)\n",
    "X5, y5 = preparation(US, features, target)\n",
    "X2.shape, y2.shape"
   ]
  },
  {
   "cell_type": "code",
   "execution_count": 18,
   "metadata": {
    "nbgrader": {
     "grade": false,
     "grade_id": "5551",
     "locked": false,
     "schema_version": 1,
     "solution": true
    }
   },
   "outputs": [],
   "source": [
    "def clean_data(X, y, rstate):\n",
    "    return train_test_split(X, y, test_size=0.09, random_state=rstate)"
   ]
  },
  {
   "cell_type": "code",
   "execution_count": 19,
   "metadata": {},
   "outputs": [
    {
     "name": "stdout",
     "output_type": "stream",
     "text": [
      "(49, 3) (49, 1)\n",
      "(5, 3) (5, 1)\n"
     ]
    }
   ],
   "source": [
    "X1_train, X1_test, y1_train, y1_test = clean_data(X1, y1, 90000)\n",
    "print(X1_train.shape, y1_train.shape)\n",
    "print(X1_test.shape, y1_test.shape)\n",
    "X2_train, X2_test, y2_train, y2_test = clean_data(X2, y2, 90000)\n",
    "X3_train, X3_test, y3_train, y3_test = clean_data(X3, y3, 90000)\n",
    "X4_train, X4_test, y4_train, y4_test = clean_data(X4, y4, 90000)\n",
    "X5_train, X5_test, y5_train, y5_test = clean_data(X5, y5, 90000)"
   ]
  },
  {
   "cell_type": "code",
   "execution_count": 20,
   "metadata": {
    "nbgrader": {
     "grade": false,
     "grade_id": "c5553",
     "locked": false,
     "schema_version": 1,
     "solution": true
    }
   },
   "outputs": [],
   "source": [
    "def train_regressor(X_train, y_train):\n",
    "    from sklearn.ensemble import AdaBoostRegressor\n",
    "    \n",
    "  #  _regressor = AdaBoostRegressor()\n",
    "    _regressor = LinearRegression ()\n",
    "  #  _regressor = DecisionTreeRegressor(max_depth=20)\n",
    "    _regressor.fit(X_train, y_train)\n",
    "    return _regressor"
   ]
  },
  {
   "cell_type": "code",
   "execution_count": 25,
   "metadata": {},
   "outputs": [
    {
     "data": {
      "text/html": [
       "<div>\n",
       "<style scoped>\n",
       "    .dataframe tbody tr th:only-of-type {\n",
       "        vertical-align: middle;\n",
       "    }\n",
       "\n",
       "    .dataframe tbody tr th {\n",
       "        vertical-align: top;\n",
       "    }\n",
       "\n",
       "    .dataframe thead th {\n",
       "        text-align: right;\n",
       "    }\n",
       "</style>\n",
       "<table border=\"1\" class=\"dataframe\">\n",
       "  <thead>\n",
       "    <tr style=\"text-align: right;\">\n",
       "      <th></th>\n",
       "      <th>Date</th>\n",
       "      <th>AP Adj</th>\n",
       "      <th>Cost</th>\n",
       "    </tr>\n",
       "  </thead>\n",
       "  <tbody>\n",
       "    <tr>\n",
       "      <th>29</th>\n",
       "      <td>42887</td>\n",
       "      <td>0.332723</td>\n",
       "      <td>-1.854992</td>\n",
       "    </tr>\n",
       "    <tr>\n",
       "      <th>30</th>\n",
       "      <td>42917</td>\n",
       "      <td>0.515044</td>\n",
       "      <td>0.859213</td>\n",
       "    </tr>\n",
       "    <tr>\n",
       "      <th>18</th>\n",
       "      <td>42552</td>\n",
       "      <td>-0.814406</td>\n",
       "      <td>0.089426</td>\n",
       "    </tr>\n",
       "    <tr>\n",
       "      <th>44</th>\n",
       "      <td>43344</td>\n",
       "      <td>0.496951</td>\n",
       "      <td>-0.625881</td>\n",
       "    </tr>\n",
       "    <tr>\n",
       "      <th>6</th>\n",
       "      <td>42186</td>\n",
       "      <td>-1.661299</td>\n",
       "      <td>0.583307</td>\n",
       "    </tr>\n",
       "  </tbody>\n",
       "</table>\n",
       "</div>"
      ],
      "text/plain": [
       "     Date    AP Adj      Cost\n",
       "29  42887  0.332723 -1.854992\n",
       "30  42917  0.515044  0.859213\n",
       "18  42552 -0.814406  0.089426\n",
       "44  43344  0.496951 -0.625881\n",
       "6   42186 -1.661299  0.583307"
      ]
     },
     "execution_count": 25,
     "metadata": {},
     "output_type": "execute_result"
    }
   ],
   "source": [
    "X1_test"
   ]
  },
  {
   "cell_type": "markdown",
   "metadata": {},
   "source": [
    "I've trained 5 different models for 5 different countries. Because they don't follow the same pattern but each country has a distinct pattern.The Root Mean Square Error has been shown additionally."
   ]
  },
  {
   "cell_type": "code",
   "execution_count": 21,
   "metadata": {
    "nbgrader": {
     "grade": true,
     "grade_id": "ex153",
     "locked": true,
     "points": 1,
     "schema_version": 1,
     "solution": false
    }
   },
   "outputs": [
    {
     "name": "stdout",
     "output_type": "stream",
     "text": [
      "0.13309409378392376\n",
      "0.4191835061717138\n",
      "0.14059779764751373\n",
      "0.25626124147879475\n",
      "0.2388574143893231\n"
     ]
    }
   ],
   "source": [
    "model1 = train_regressor(X1_train, y1_train['Cash Flow'])\n",
    "y1_prediction = model1.predict(X1_test)\n",
    "rmse1 = sqrt(mean_squared_error(y_true = y1_test, y_pred = y1_prediction))\n",
    "print(rmse1)\n",
    "#except AssertionError as e: print(\"Keep trying - can you get an RMSE < %f\" % threshold)\n",
    "model2 = train_regressor(X2_train, y2_train['Cash Flow'])\n",
    "y2_prediction = model2.predict(X2_test)\n",
    "rmse2 = sqrt(mean_squared_error(y_true = y2_test, y_pred = y2_prediction))\n",
    "print(rmse2)\n",
    "model3 = train_regressor(X3_train, y3_train['Cash Flow'])\n",
    "y3_prediction = model3.predict(X3_test)\n",
    "rmse3 = sqrt(mean_squared_error(y_true = y3_test, y_pred = y3_prediction))\n",
    "print(rmse3)\n",
    "model4 = train_regressor(X4_train, y4_train['Cash Flow'])\n",
    "y4_prediction = model4.predict(X4_test)\n",
    "rmse4 = sqrt(mean_squared_error(y_true = y4_test, y_pred = y4_prediction))\n",
    "print(rmse4)\n",
    "model5 = train_regressor(X5_train, y5_train['Cash Flow'])\n",
    "y5_prediction = model5.predict(X5_test)\n",
    "rmse5 = sqrt(mean_squared_error(y_true = y5_test, y_pred = y5_prediction))\n",
    "print(rmse5)"
   ]
  },
  {
   "cell_type": "markdown",
   "metadata": {},
   "source": [
    "### The following values have been taken from China.xlsx, Germany.xlsx, Ireland.xlsx, Sw.xlsx, US.xlsx files\n",
    "The AP Adj, Cost data of each file have been calculated by averaging the values of past 3 available days. The cash flow is to be predicted by our ML model."
   ]
  },
  {
   "cell_type": "code",
   "execution_count": 39,
   "metadata": {},
   "outputs": [],
   "source": [
    "d1={'Date':[43678.00,43709.0,43739.00,43770.00,43800.00],'AP Adj':[0.873318,0.841404,0.734025,0.816249,0.797226],'Cost':[0.007418,0.1058,-0.02507,0.029381,0.036702]}\n",
    "d1=pd.DataFrame(data=d1)\n",
    "d2={'Date':[43678.00,43709.0,43739.00,43770.00,43800.00],'AP Adj':[0.906075777,0.892320106,0.819211283,0.872535722,0.861355704],'Cost':[0.148744502,0.140467015,0.413289382,0.234166966,0.262641121]}\n",
    "d2=pd.DataFrame(data=d2)\n",
    "d3={'Date':[43678.00,43709.0,43739.00,43770.00,43800.00],'AP Adj':[1.199977949,1.186726794,1.219807063,1.202170602,1.202901486],'Cost':[0.064738533,0.067821651,0.321416976,0.15132572,0.180188116]}\n",
    "d3=pd.DataFrame(data=d3)\n",
    "d4={'Date':[43678.00,43709.0,43739.00,43770.00,43800.00],'AP Adj':[0.790942345,0.767446076,0.712290784,0.756893068,0.74554331],'Cost':[-0.213781256,-0.222236474,-0.234410606,-0.223476112,-0.22670773]}\n",
    "d4=pd.DataFrame(data=d4)\n",
    "d5={'Date':[43678.00,43709.0,43739.00,43770.00,43800.00],'AP Adj':[-0.445984661,-0.456103654,-0.447299181,-0.449795832,-0.451066222],'Cost':[-0.668328998,-0.579576009,-0.613963628,-0.620622878,-0.604720838]}\n",
    "d5=pd.DataFrame(data=d5)"
   ]
  },
  {
   "attachments": {},
   "cell_type": "markdown",
   "metadata": {},
   "source": [
    "The cash flow forecasting of 5 different countries from 8/1/2019 to 12/1/2019"
   ]
  },
  {
   "cell_type": "code",
   "execution_count": 42,
   "metadata": {},
   "outputs": [
    {
     "name": "stdout",
     "output_type": "stream",
     "text": [
      "China [-0.28937702 -0.31202071 -0.37659704 -0.36859221 -0.3945343 ]\n",
      "Germany [-0.12041364 -0.13318729 -0.14027244 -0.1508517  -0.16078511]\n",
      "Ireland [-0.1032332  -0.12556922 -0.08533214 -0.14156634 -0.15394345]\n",
      "Switzerland [-0.32018938 -0.36961785 -0.44115864 -0.44222936 -0.48220022]\n",
      "USA [-0.30602296 -0.31552987 -0.31919613 -0.32623232 -0.33283128]\n"
     ]
    }
   ],
   "source": [
    "print('China',model1.predict(d1))\n",
    "print('Germany',model2.predict(d2))\n",
    "print('Ireland',model3.predict(d3))\n",
    "print('Switzerland',model4.predict(d4))\n",
    "print('USA',model5.predict(d5))"
   ]
  },
  {
   "cell_type": "code",
   "execution_count": null,
   "metadata": {},
   "outputs": [],
   "source": []
  }
 ],
 "metadata": {
  "celltoolbar": "Create Assignment",
  "kernelspec": {
   "display_name": "Python 3",
   "language": "python",
   "name": "python3"
  },
  "language_info": {
   "codemirror_mode": {
    "name": "ipython",
    "version": 3
   },
   "file_extension": ".py",
   "mimetype": "text/x-python",
   "name": "python",
   "nbconvert_exporter": "python",
   "pygments_lexer": "ipython3",
   "version": "3.7.6"
  }
 },
 "nbformat": 4,
 "nbformat_minor": 2
}
